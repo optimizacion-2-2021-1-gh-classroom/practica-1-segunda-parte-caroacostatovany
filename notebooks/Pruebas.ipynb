{
 "cells": [
  {
   "cell_type": "code",
   "execution_count": 1,
   "metadata": {},
   "outputs": [],
   "source": [
    "import numpy as np\n",
    "import sys\n",
    "import os\n",
    "os.chdir(\"..\")"
   ]
  },
  {
   "cell_type": "code",
   "execution_count": 2,
   "metadata": {},
   "outputs": [],
   "source": [
    "sys.path.insert(0, \"/datos/practica-1-segunda-parte-caroacostatovany\")"
   ]
  },
  {
   "cell_type": "code",
   "execution_count": 3,
   "metadata": {},
   "outputs": [],
   "source": [
    "from src.mex.simplex.simplex_networks import *\n",
    "from src.mex.simplex.problem_definition import *"
   ]
  },
  {
   "cell_type": "markdown",
   "metadata": {},
   "source": [
    "# Pruebas"
   ]
  },
  {
   "cell_type": "markdown",
   "metadata": {},
   "source": [
    "### Ejemplo modelo prototipo"
   ]
  },
  {
   "cell_type": "code",
   "execution_count": 4,
   "metadata": {},
   "outputs": [
    {
     "name": "stdout",
     "output_type": "stream",
     "text": [
      "[[ -2.  -5.   1.   0.   0.   0.   0. -30.]\n",
      " [  3.  -5.   0.   1.   0.   0.   0.  -5.]\n",
      " [  8.   3.   0.   0.   1.   0.   0.  85.]\n",
      " [ -9.   7.   0.   0.   0.   1.   0.  42.]\n",
      " [ -2.  -7.   0.   0.   0.   0.   1.   0.]]\n",
      "{'x1': 5.0, 'x2': 4.0}\n"
     ]
    }
   ],
   "source": [
    "m = create_matrix(2, 4)\n",
    "constrain(m,'2,5,G,30')\n",
    "constrain(m,'-3,5,G,5')\n",
    "constrain(m,'8,3,L,85')\n",
    "constrain(m,'-9,7,L,42')\n",
    "obj(m,'2,7,0')\n",
    "print(m)\n",
    "print(minz(m))"
   ]
  },
  {
   "cell_type": "markdown",
   "metadata": {},
   "source": [
    "## Ejemplo prototipo redes"
   ]
  },
  {
   "cell_type": "code",
   "execution_count": 5,
   "metadata": {},
   "outputs": [],
   "source": [
    "n_variables = 7\n",
    "n_restricciones = 5"
   ]
  },
  {
   "cell_type": "code",
   "execution_count": 6,
   "metadata": {},
   "outputs": [],
   "source": [
    "prototipo_red = create_matrix(n_variables, n_restricciones)"
   ]
  },
  {
   "cell_type": "markdown",
   "metadata": {},
   "source": [
    "### Ejemplo Lema de Farkas con igualdades"
   ]
  },
  {
   "cell_type": "code",
   "execution_count": 7,
   "metadata": {},
   "outputs": [],
   "source": [
    "prototipo_red = create_matrix(n_variables, n_restricciones)\n",
    "constrain(prototipo_red,'1,1,1,0,0,0,0,E,50')\n",
    "constrain(prototipo_red,'-1,0,0,1,0,0,0,E,40')\n",
    "constrain(prototipo_red,'0,-1,0,-1,1,0,0,E,0')\n",
    "constrain(prototipo_red,'0,0,-1,0,0,1,-1,E,-30')\n",
    "constrain(prototipo_red,'0,0,0,0,-1,-1,1,E,-60')"
   ]
  },
  {
   "cell_type": "code",
   "execution_count": 8,
   "metadata": {},
   "outputs": [
    {
     "data": {
      "text/plain": [
       "array([[  1.,   1.,   1.,   0.,   0.,   0.,   0.,   0.,   0.,   0.,   0.,\n",
       "          0.,   0.,  50.],\n",
       "       [ -1.,   0.,   0.,   1.,   0.,   0.,   0.,   0.,   0.,   0.,   0.,\n",
       "          0.,   0.,  40.],\n",
       "       [  0.,  -1.,   0.,  -1.,   1.,   0.,   0.,   0.,   0.,   0.,   0.,\n",
       "          0.,   0.,   0.],\n",
       "       [  0.,   0.,  -1.,   0.,   0.,   1.,  -1.,   0.,   0.,   0.,   0.,\n",
       "          0.,   0., -30.],\n",
       "       [  0.,   0.,   0.,   0.,  -1.,  -1.,   1.,   0.,   0.,   0.,   0.,\n",
       "          0.,   0., -60.],\n",
       "       [  0.,   0.,   0.,   0.,   0.,   0.,   0.,   0.,   0.,   0.,   0.,\n",
       "          0.,   0.,   0.]])"
      ]
     },
     "execution_count": 8,
     "metadata": {},
     "output_type": "execute_result"
    }
   ],
   "source": [
    "prototipo_red"
   ]
  },
  {
   "cell_type": "code",
   "execution_count": 9,
   "metadata": {},
   "outputs": [
    {
     "data": {
      "text/plain": [
       "{'x1': 50.0,\n",
       " 'x2': 50.0,\n",
       " 'x3': 0,\n",
       " 'min': 470.0,\n",
       " 'x4': 40.0,\n",
       " 'x5': 90.0,\n",
       " 'x6': 0,\n",
       " 'x7': 30.0}"
      ]
     },
     "execution_count": 9,
     "metadata": {},
     "output_type": "execute_result"
    }
   ],
   "source": [
    "# Agregamos la función objetivo\n",
    "obj(prototipo_red, '2,4,9,3,1,3,2,0')\n",
    "minz(prototipo_red)"
   ]
  }
 ],
 "metadata": {
  "kernelspec": {
   "display_name": "Python 3",
   "language": "python",
   "name": "python3"
  },
  "language_info": {
   "codemirror_mode": {
    "name": "ipython",
    "version": 3
   },
   "file_extension": ".py",
   "mimetype": "text/x-python",
   "name": "python",
   "nbconvert_exporter": "python",
   "pygments_lexer": "ipython3",
   "version": "3.7.3"
  }
 },
 "nbformat": 4,
 "nbformat_minor": 5
}
